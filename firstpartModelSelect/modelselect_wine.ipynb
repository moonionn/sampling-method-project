{
 "cells": [
  {
   "cell_type": "markdown",
   "source": [
    "## 第一部分\n",
    "先就已事先處理的'new_winequality'，進行模型的選擇。\n",
    "選擇出兩個適合的模型進行下一步採樣比較。"
   ],
   "metadata": {
    "collapsed": false
   },
   "id": "f44845e8bf925ffa"
  },
  {
   "cell_type": "code",
   "execution_count": null,
   "id": "initial_id",
   "metadata": {
    "collapsed": true
   },
   "outputs": [],
   "source": [
    "import pandas as pd\n",
    "train_df = pd.read_csv('newdataset/new_winequality.csv')"
   ]
  },
  {
   "cell_type": "code",
   "outputs": [],
   "source": [
    "from sklearn.model_selection import train_test_split\n",
    "\n",
    "# 資料分割 def\n",
    "def split_data(df, target_column, test_size=0.2, random_state=42):\n",
    "\n",
    "    X = df.drop(columns=[target_column])\n",
    "    y = df[target_column]\n",
    "    X_train, X_test, y_train, y_test = train_test_split(X, y, test_size=test_size, random_state=random_state)\n",
    "    return X_train, X_test, y_train, y_test"
   ],
   "metadata": {
    "collapsed": false,
    "ExecuteTime": {
     "end_time": "2024-04-30T06:01:11.017655Z",
     "start_time": "2024-04-30T06:01:10.922321Z"
    }
   },
   "id": "d43c6f830cdee98c",
   "execution_count": 1
  },
  {
   "cell_type": "markdown",
   "source": [
    "### 模型選擇\n",
    "Logistic Regression\n",
    "Random Forest\n",
    "SVM\n",
    "KNN\n",
    "Naive Bayes"
   ],
   "metadata": {
    "collapsed": false
   },
   "id": "901961c6a1d46f3f"
  },
  {
   "cell_type": "code",
   "outputs": [],
   "source": [],
   "metadata": {
    "collapsed": false
   },
   "id": "87ad5df50008171d"
  }
 ],
 "metadata": {
  "kernelspec": {
   "display_name": "Python 3",
   "language": "python",
   "name": "python3"
  },
  "language_info": {
   "codemirror_mode": {
    "name": "ipython",
    "version": 2
   },
   "file_extension": ".py",
   "mimetype": "text/x-python",
   "name": "python",
   "nbconvert_exporter": "python",
   "pygments_lexer": "ipython2",
   "version": "2.7.6"
  }
 },
 "nbformat": 4,
 "nbformat_minor": 5
}
