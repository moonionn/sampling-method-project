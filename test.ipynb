{
 "cells": [
  {
   "cell_type": "code",
   "execution_count": 4,
   "id": "initial_id",
   "metadata": {
    "collapsed": true,
    "ExecuteTime": {
     "end_time": "2024-04-29T08:58:34.313279Z",
     "start_time": "2024-04-29T08:58:34.300055Z"
    }
   },
   "outputs": [
    {
     "name": "stdout",
     "output_type": "stream",
     "text": [
      "           Sampling Classifier  F1-score     AUC\n",
      "0      wine initial         LR    0.9487  0.9252\n",
      "1      wine initial         RF    0.9559  0.8742\n",
      "2      wine initial        SVM    0.9487  0.2330\n",
      "3  diabetes initial         LR    0.9556  0.9612\n",
      "4  diabetes initial         RF    0.9677  0.9626\n",
      "5  diabetes initial        SVM    0.9546  0.9592\n"
     ]
    }
   ],
   "source": [
    "import pandas as pd\n",
    "\n",
    "# 創建一個數據字典\n",
    "data = {\n",
    "    'Sampling': ['wine initial', 'wine initial', 'wine initial', 'diabetes initial', 'diabetes initial', 'diabetes initial'],\n",
    "    'Classifier': ['LR', 'RF', 'SVM', 'LR', 'RF', 'SVM'],\n",
    "    'F1-score': [0.9487, 0.9559, 0.9487, 0.9556, 0.9677, 0.9546],\n",
    "    'AUC': [0.9252, 0.8742, 0.2330, 0.9612, 0.9626, 0.9592]\n",
    "}\n",
    "\n",
    "# 創建DataFrame\n",
    "df = pd.DataFrame(data)\n",
    "\n",
    "# 打印DataFrame\n",
    "print(df)"
   ]
  },
  {
   "cell_type": "code",
   "outputs": [
    {
     "name": "stdout",
     "output_type": "stream",
     "text": [
      "    Sampling          Classifier      F1-score     AUC\n",
      "--  ----------------  ------------  ----------  ------\n",
      " 0  wine initial      LR                0.9487  0.9252\n",
      " 1  wine initial      RF                0.9559  0.8742\n",
      " 2  wine initial      SVM               0.9487  0.233\n",
      " 3  diabetes initial  LR                0.9556  0.9612\n",
      " 4  diabetes initial  RF                0.9677  0.9626\n",
      " 5  diabetes initial  SVM               0.9546  0.9592\n"
     ]
    }
   ],
   "source": [
    "from tabulate import tabulate\n",
    "output = tabulate(df, headers='keys', tablefmt='simple')\n",
    "\n",
    "# 使用tabulate打印表格，選擇一個適合您需求的格式，例如'grid'。\n",
    "print(output)\n"
   ],
   "metadata": {
    "collapsed": false,
    "ExecuteTime": {
     "end_time": "2024-04-29T09:00:43.402576Z",
     "start_time": "2024-04-29T09:00:43.398212Z"
    }
   },
   "id": "9ed1f1195615abee",
   "execution_count": 9
  },
  {
   "cell_type": "code",
   "outputs": [],
   "source": [],
   "metadata": {
    "collapsed": false
   },
   "id": "32e843f2daf7908a"
  }
 ],
 "metadata": {
  "kernelspec": {
   "display_name": "Python 3",
   "language": "python",
   "name": "python3"
  },
  "language_info": {
   "codemirror_mode": {
    "name": "ipython",
    "version": 2
   },
   "file_extension": ".py",
   "mimetype": "text/x-python",
   "name": "python",
   "nbconvert_exporter": "python",
   "pygments_lexer": "ipython2",
   "version": "2.7.6"
  }
 },
 "nbformat": 4,
 "nbformat_minor": 5
}
